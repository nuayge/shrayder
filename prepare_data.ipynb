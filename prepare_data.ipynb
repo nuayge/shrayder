{
 "cells": [
  {
   "cell_type": "markdown",
   "metadata": {},
   "source": [
    "Download a dataset, for instance from [Kontur](https://data.humdata.org/organization/kontur)\n",
    "\n",
    "Data comes as a GeoPackage (.gpkg)\n",
    "\n",
    "Use your favorite geo-processing package to process it. For instance the France dataset contains data for its ultramarine territories, we may want to display it for metropolitan France only."
   ]
  },
  {
   "cell_type": "markdown",
   "metadata": {},
   "source": [
    "Run this command if you need the packages:\n",
    "\n",
    "`!pip install shapely geopandas h3-py`"
   ]
  },
  {
   "cell_type": "code",
   "execution_count": 4,
   "metadata": {},
   "outputs": [],
   "source": [
    "import geopandas as gpd\n",
    "from shapely.geometry import shape\n",
    "import h3\n",
    "\n",
    "france_bb = {\n",
    "    \"coordinates\": [\n",
    "        [\n",
    "            [10.154386622500624, 51.978434447673266],\n",
    "            [-5.378391427548905, 51.978434447673266],\n",
    "            [-5.378391427548905, 42.18118283697103],\n",
    "            [10.154386622500624, 42.18118283697103],\n",
    "            [10.154386622500624, 51.978434447673266],\n",
    "        ]\n",
    "    ],\n",
    "    \"type\": \"Polygon\",\n",
    "}"
   ]
  },
  {
   "cell_type": "code",
   "execution_count": 5,
   "metadata": {},
   "outputs": [],
   "source": [
    "# GPKG from kontur in in EPSG:3857\n",
    "gdf = gpd.read_file(\n",
    "    \"data/kontur_population_FR_20231101.gpkg\",\n",
    "    mask=gpd.GeoSeries([shape(france_bb)], crs=4326),\n",
    ")"
   ]
  },
  {
   "cell_type": "code",
   "execution_count": 6,
   "metadata": {},
   "outputs": [
    {
     "data": {
      "text/html": [
       "<div>\n",
       "<style scoped>\n",
       "    .dataframe tbody tr th:only-of-type {\n",
       "        vertical-align: middle;\n",
       "    }\n",
       "\n",
       "    .dataframe tbody tr th {\n",
       "        vertical-align: top;\n",
       "    }\n",
       "\n",
       "    .dataframe thead th {\n",
       "        text-align: right;\n",
       "    }\n",
       "</style>\n",
       "<table border=\"1\" class=\"dataframe\">\n",
       "  <thead>\n",
       "    <tr style=\"text-align: right;\">\n",
       "      <th></th>\n",
       "      <th>h3</th>\n",
       "      <th>population</th>\n",
       "      <th>geometry</th>\n",
       "    </tr>\n",
       "  </thead>\n",
       "  <tbody>\n",
       "    <tr>\n",
       "      <th>0</th>\n",
       "      <td>883975bb59fffff</td>\n",
       "      <td>1.0</td>\n",
       "      <td>POLYGON ((-21401.878 5280547.272, -22052.657 5...</td>\n",
       "    </tr>\n",
       "    <tr>\n",
       "      <th>1</th>\n",
       "      <td>883975bacdfffff</td>\n",
       "      <td>6.0</td>\n",
       "      <td>POLYGON ((-11641.257 5283999.647, -12291.903 5...</td>\n",
       "    </tr>\n",
       "  </tbody>\n",
       "</table>\n",
       "</div>"
      ],
      "text/plain": [
       "                h3  population  \\\n",
       "0  883975bb59fffff         1.0   \n",
       "1  883975bacdfffff         6.0   \n",
       "\n",
       "                                            geometry  \n",
       "0  POLYGON ((-21401.878 5280547.272, -22052.657 5...  \n",
       "1  POLYGON ((-11641.257 5283999.647, -12291.903 5...  "
      ]
     },
     "execution_count": 6,
     "metadata": {},
     "output_type": "execute_result"
    }
   ],
   "source": [
    "gdf.head(2)"
   ]
  },
  {
   "cell_type": "markdown",
   "metadata": {},
   "source": [
    "Right now, the `H3Shrayder`  needs to be fed data in the form `(lat, lon, value)`\n",
    "(hopefully soon we'll draw polygons whatever their shape).\n",
    "\n",
    "Use H3 to get the center of each Hexagon\n"
   ]
  },
  {
   "cell_type": "code",
   "execution_count": null,
   "metadata": {},
   "outputs": [],
   "source": [
    "gdf[\"latlon\"] = gdf.h3.apply(h3.h3_to_geo)\n",
    "gdf[\"lon\"] = gdf.latlon.apply(lambda x: x[0])\n",
    "gdf[\"lat\"] = gdf.latlon.apply(lambda x: x[1])\n",
    "\n",
    "\n",
    "gdf[[\"lat\", \"lon\", \"population\"]].to_csv(\"data/example.csv\")"
   ]
  }
 ],
 "metadata": {
  "kernelspec": {
   "display_name": "Python 3.11.6 64-bit",
   "language": "python",
   "name": "python3"
  },
  "language_info": {
   "codemirror_mode": {
    "name": "ipython",
    "version": 3
   },
   "file_extension": ".py",
   "mimetype": "text/x-python",
   "name": "python",
   "nbconvert_exporter": "python",
   "pygments_lexer": "ipython3",
   "version": "3.11.6"
  },
  "orig_nbformat": 4,
  "vscode": {
   "interpreter": {
    "hash": "5c7b89af1651d0b8571dde13640ecdccf7d5a6204171d6ab33e7c296e100e08a"
   }
  }
 },
 "nbformat": 4,
 "nbformat_minor": 2
}
